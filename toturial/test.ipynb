{
 "cells": [
  {
   "cell_type": "code",
   "execution_count": 3,
   "id": "initial_id",
   "metadata": {
    "jupyter": {
     "is_executing": true
    }
   },
   "outputs": [],
   "source": [
    "# !pip install GifPlotter"
   ]
  },
  {
   "cell_type": "code",
   "execution_count": 4,
   "id": "f34e9bde38666f4",
   "metadata": {
    "jupyter": {
     "is_executing": true
    }
   },
   "outputs": [],
   "source": [
    "from GifPlotter.felixi_plotter import FlexiPlotter"
   ]
  },
  {
   "cell_type": "code",
   "execution_count": 8,
   "id": "281879a6897165f8",
   "metadata": {},
   "outputs": [],
   "source": [
    "import numpy as np"
   ]
  },
  {
   "cell_type": "code",
   "execution_count": 7,
   "id": "63d6a7e3-c3e8-4bb6-98b3-17e5c9e8ffa5",
   "metadata": {},
   "outputs": [
    {
     "ename": "NameError",
     "evalue": "name 'pd' is not defined",
     "output_type": "error",
     "traceback": [
      "\u001b[1;31m---------------------------------------------------------------------------\u001b[0m",
      "\u001b[1;31mNameError\u001b[0m                                 Traceback (most recent call last)",
      "Cell \u001b[1;32mIn[7], line 3\u001b[0m\n\u001b[0;32m      1\u001b[0m \u001b[38;5;66;03m# Create a sample DataFrame with 100 rows\u001b[39;00m\n\u001b[0;32m      2\u001b[0m np\u001b[38;5;241m.\u001b[39mrandom\u001b[38;5;241m.\u001b[39mseed(\u001b[38;5;241m42\u001b[39m)\n\u001b[1;32m----> 3\u001b[0m df \u001b[38;5;241m=\u001b[39m \u001b[43mpd\u001b[49m\u001b[38;5;241m.\u001b[39mDataFrame({\n\u001b[0;32m      4\u001b[0m     \u001b[38;5;124m'\u001b[39m\u001b[38;5;124mA\u001b[39m\u001b[38;5;124m'\u001b[39m: \u001b[38;5;28mrange\u001b[39m(\u001b[38;5;241m100\u001b[39m),\n\u001b[0;32m      5\u001b[0m     \u001b[38;5;124m'\u001b[39m\u001b[38;5;124mB\u001b[39m\u001b[38;5;124m'\u001b[39m: np\u001b[38;5;241m.\u001b[39mrandom\u001b[38;5;241m.\u001b[39mrand(\u001b[38;5;241m100\u001b[39m) \u001b[38;5;241m*\u001b[39m \u001b[38;5;241m100\u001b[39m,\n\u001b[0;32m      6\u001b[0m     \u001b[38;5;124m'\u001b[39m\u001b[38;5;124mC\u001b[39m\u001b[38;5;124m'\u001b[39m: np\u001b[38;5;241m.\u001b[39mrandom\u001b[38;5;241m.\u001b[39mrand(\u001b[38;5;241m100\u001b[39m) \u001b[38;5;241m*\u001b[39m \u001b[38;5;241m100\u001b[39m,\n\u001b[0;32m      7\u001b[0m     \u001b[38;5;124m'\u001b[39m\u001b[38;5;124mD\u001b[39m\u001b[38;5;124m'\u001b[39m: np\u001b[38;5;241m.\u001b[39mrandom\u001b[38;5;241m.\u001b[39mrandn(\u001b[38;5;241m100\u001b[39m) \u001b[38;5;241m*\u001b[39m \u001b[38;5;241m20\u001b[39m,\n\u001b[0;32m      8\u001b[0m     \u001b[38;5;124m'\u001b[39m\u001b[38;5;124mE\u001b[39m\u001b[38;5;124m'\u001b[39m: np\u001b[38;5;241m.\u001b[39mrandom\u001b[38;5;241m.\u001b[39mrandn(\u001b[38;5;241m100\u001b[39m) \u001b[38;5;241m*\u001b[39m \u001b[38;5;241m15\u001b[39m,\n\u001b[0;32m      9\u001b[0m     \u001b[38;5;124m'\u001b[39m\u001b[38;5;124mF\u001b[39m\u001b[38;5;124m'\u001b[39m: np\u001b[38;5;241m.\u001b[39mrandom\u001b[38;5;241m.\u001b[39mrand(\u001b[38;5;241m100\u001b[39m) \u001b[38;5;241m*\u001b[39m \u001b[38;5;241m50\u001b[39m,\n\u001b[0;32m     10\u001b[0m     \u001b[38;5;124m'\u001b[39m\u001b[38;5;124mG\u001b[39m\u001b[38;5;124m'\u001b[39m: np\u001b[38;5;241m.\u001b[39mrandom\u001b[38;5;241m.\u001b[39mrand(\u001b[38;5;241m100\u001b[39m) \u001b[38;5;241m*\u001b[39m \u001b[38;5;241m30\u001b[39m\n\u001b[0;32m     11\u001b[0m })\n",
      "\u001b[1;31mNameError\u001b[0m: name 'pd' is not defined"
     ]
    }
   ],
   "source": [
    "# Create a sample DataFrame with 100 rows\n",
    "np.random.seed(42)\n",
    "df = pd.DataFrame({\n",
    "    'A': range(100),\n",
    "    'B': np.random.rand(100) * 100,\n",
    "    'C': np.random.rand(100) * 100,\n",
    "    'D': np.random.randn(100) * 20,\n",
    "    'E': np.random.randn(100) * 15,\n",
    "    'F': np.random.rand(100) * 50,\n",
    "    'G': np.random.rand(100) * 30\n",
    "})"
   ]
  },
  {
   "cell_type": "code",
   "execution_count": null,
   "id": "c1b93758393fe273",
   "metadata": {},
   "outputs": [],
   "source": [
    "# Define the payload\n",
    "payload = {\n",
    "    'figure_size': (16, 12),\n",
    "    'layout': [\n",
    "        [1, 1, 1],  # Three plots in the top row\n",
    "        [1, 1, 1, 1]  # Four plots in the bottom row\n",
    "    ],\n",
    "    'plots': [\n",
    "        {\n",
    "            'type': 'line',\n",
    "            'x': 'A',\n",
    "            'y': 'B',\n",
    "            'title': 'Line Plot: A vs B',\n",
    "            'xlabel': 'X-axis (A)',\n",
    "            'ylabel': 'Y-axis (B)',\n",
    "            'color': 'red'\n",
    "        },\n",
    "        {\n",
    "            'type': 'scatter',\n",
    "            'x': 'A',\n",
    "            'y': 'C',\n",
    "            'title': 'Scatter Plot: A vs C',\n",
    "            'xlabel': 'X-axis (A)',\n",
    "            'ylabel': 'Y-axis (C)',\n",
    "            'color': 'blue'\n",
    "        },\n",
    "        {\n",
    "            'type': 'bar',\n",
    "            'x': 'A',\n",
    "            'y': 'D',\n",
    "            'title': 'Bar Plot: A vs D',\n",
    "            'xlabel': 'X-axis (A)',\n",
    "            'ylabel': 'Y-axis (D)',\n",
    "            'color': 'green'\n",
    "        },\n",
    "        {\n",
    "            'type': 'line',\n",
    "            'x': 'A',\n",
    "            'y': 'E',\n",
    "            'title': 'Line Plot: A vs E',\n",
    "            'xlabel': 'X-axis (A)',\n",
    "            'ylabel': 'Y-axis (E)',\n",
    "            'color': 'purple'\n",
    "        },\n",
    "        {\n",
    "            'type': 'scatter',\n",
    "            'x': 'A',\n",
    "            'y': 'F',\n",
    "            'title': 'Scatter Plot: A vs F',\n",
    "            'xlabel': 'X-axis (A)',\n",
    "            'ylabel': 'Y-axis (F)',\n",
    "            'color': 'orange'\n",
    "        },\n",
    "        {\n",
    "            'type': 'bar',\n",
    "            'x': 'A',\n",
    "            'y': 'G',\n",
    "            'title': 'Bar Plot: A vs G',\n",
    "            'xlabel': 'X-axis (A)',\n",
    "            'ylabel': 'Y-axis (G)',\n",
    "            'color': 'brown'\n",
    "        },\n",
    "        {\n",
    "            'type': 'line',\n",
    "            'x': 'B',\n",
    "            'y': 'C',\n",
    "            'title': 'Line Plot: B vs C',\n",
    "            'xlabel': 'X-axis (B)',\n",
    "            'ylabel': 'Y-axis (C)',\n",
    "            'color': 'pink'\n",
    "        }\n",
    "    ],\n",
    "    'save_gif': True,\n",
    "    'gif_path': 'output/animation.gif',\n",
    "    'gif_duration': 0.1\n",
    "}\n",
    "\n"
   ]
  },
  {
   "cell_type": "code",
   "execution_count": null,
   "id": "b6e0d8df-717b-4feb-b9a7-8d3d5aa7f622",
   "metadata": {},
   "outputs": [],
   "source": []
  },
  {
   "cell_type": "code",
   "execution_count": null,
   "id": "bd9d015b-2351-4eae-a972-f9a38ba7fa66",
   "metadata": {},
   "outputs": [],
   "source": [
    "# Create the plotter and generate the figure\n",
    "plotter = FlexiPlotter(payload, df)\n",
    "fig = plotter.generate_figure()\n",
    "\n",
    "# Show the final figure\n",
    "plt.show()"
   ]
  }
 ],
 "metadata": {
  "kernelspec": {
   "display_name": "Python 3 (ipykernel)",
   "language": "python",
   "name": "python3"
  },
  "language_info": {
   "codemirror_mode": {
    "name": "ipython",
    "version": 3
   },
   "file_extension": ".py",
   "mimetype": "text/x-python",
   "name": "python",
   "nbconvert_exporter": "python",
   "pygments_lexer": "ipython3",
   "version": "3.12.2"
  }
 },
 "nbformat": 4,
 "nbformat_minor": 5
}
